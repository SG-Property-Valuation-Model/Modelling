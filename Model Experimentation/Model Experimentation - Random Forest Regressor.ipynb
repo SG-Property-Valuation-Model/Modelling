{
 "cells": [
  {
   "cell_type": "markdown",
   "metadata": {},
   "source": [
    "# Model Experimentation\n",
    "\n",
    "1. <b>Random Forest Regressor</b>\n",
    "2. XGBoost Regressor\n",
    "3. LightGBM Regressor"
   ]
  },
  {
   "cell_type": "markdown",
   "metadata": {},
   "source": [
    "## Import Libraries"
   ]
  },
  {
   "cell_type": "code",
   "execution_count": 1,
   "metadata": {},
   "outputs": [],
   "source": [
    "# dataframe packages\n",
    "import pandas as pd\n",
    "import numpy as np\n",
    "from skopt.space import Categorical, Integer, Real\n",
    "from skopt.utils import use_named_args\n",
    "from skopt import gp_minimize\n",
    "\n",
    "# statistical packages\n",
    "import math\n",
    "from scipy.stats import uniform\n",
    "from math import sqrt\n",
    "\n",
    "# modeling packages\n",
    "from sklearn.ensemble import RandomForestRegressor\n",
    "import lightgbm as lgb\n",
    "from lightgbm import LGBMRegressor\n",
    "from xgboost import XGBRegressor\n",
    "from sklearn.svm import SVR\n",
    "\n",
    "# evaluation packages\n",
    "from sklearn.metrics import r2_score,mean_squared_error, mean_squared_log_error\n",
    "from sklearn.model_selection import cross_val_score, RepeatedKFold, train_test_split, RandomizedSearchCV, GridSearchCV\n",
    "from sklearn.model_selection import TimeSeriesSplit\n",
    "\n",
    "# scaling packages\n",
    "from sklearn.preprocessing import StandardScaler, MinMaxScaler\n",
    "\n",
    "# visualisation packages\n",
    "import seaborn as sns\n",
    "import matplotlib.pyplot as plt"
   ]
  },
  {
   "cell_type": "markdown",
   "metadata": {},
   "source": [
    "## Load Dataset"
   ]
  },
  {
   "cell_type": "code",
   "execution_count": 2,
   "metadata": {},
   "outputs": [],
   "source": [
    "directory = 'C:/Users/chery/Documents/NUS Y4 Sem 2 Modules/BT4222/Dataset/Primary Dataset/modelling_dataset.csv'\n",
    "model_df = pd.read_csv(directory)"
   ]
  },
  {
   "cell_type": "code",
   "execution_count": 3,
   "metadata": {},
   "outputs": [
    {
     "data": {
      "text/html": [
       "<div>\n",
       "<style scoped>\n",
       "    .dataframe tbody tr th:only-of-type {\n",
       "        vertical-align: middle;\n",
       "    }\n",
       "\n",
       "    .dataframe tbody tr th {\n",
       "        vertical-align: top;\n",
       "    }\n",
       "\n",
       "    .dataframe thead th {\n",
       "        text-align: right;\n",
       "    }\n",
       "</style>\n",
       "<table border=\"1\" class=\"dataframe\">\n",
       "  <thead>\n",
       "    <tr style=\"text-align: right;\">\n",
       "      <th></th>\n",
       "      <th>Area (SQM)</th>\n",
       "      <th>Unit Price ($ PSM)</th>\n",
       "      <th>Floor Number</th>\n",
       "      <th>PPI</th>\n",
       "      <th>Average Cases Per Year</th>\n",
       "      <th>Nearest Primary School</th>\n",
       "      <th>nearest_station_distance</th>\n",
       "      <th>Remaining Lease</th>\n",
       "      <th>Ang Mo Kio</th>\n",
       "      <th>Bedok</th>\n",
       "      <th>...</th>\n",
       "      <th>Yishun</th>\n",
       "      <th>BLUE</th>\n",
       "      <th>BROWN</th>\n",
       "      <th>GREEN</th>\n",
       "      <th>LRT</th>\n",
       "      <th>PURPLE</th>\n",
       "      <th>RED</th>\n",
       "      <th>YELLOW</th>\n",
       "      <th>Apartment</th>\n",
       "      <th>Executive Condominium</th>\n",
       "    </tr>\n",
       "  </thead>\n",
       "  <tbody>\n",
       "    <tr>\n",
       "      <th>0</th>\n",
       "      <td>95.0</td>\n",
       "      <td>6316.0</td>\n",
       "      <td>1.0</td>\n",
       "      <td>124.3</td>\n",
       "      <td>33</td>\n",
       "      <td>705.752731</td>\n",
       "      <td>1207.822015</td>\n",
       "      <td>87.0</td>\n",
       "      <td>0</td>\n",
       "      <td>0</td>\n",
       "      <td>...</td>\n",
       "      <td>0</td>\n",
       "      <td>0</td>\n",
       "      <td>0</td>\n",
       "      <td>0</td>\n",
       "      <td>0</td>\n",
       "      <td>0</td>\n",
       "      <td>0</td>\n",
       "      <td>0</td>\n",
       "      <td>0</td>\n",
       "      <td>0</td>\n",
       "    </tr>\n",
       "    <tr>\n",
       "      <th>1</th>\n",
       "      <td>138.0</td>\n",
       "      <td>13833.0</td>\n",
       "      <td>1.0</td>\n",
       "      <td>124.3</td>\n",
       "      <td>58</td>\n",
       "      <td>1233.947139</td>\n",
       "      <td>768.529003</td>\n",
       "      <td>88.0</td>\n",
       "      <td>0</td>\n",
       "      <td>0</td>\n",
       "      <td>...</td>\n",
       "      <td>0</td>\n",
       "      <td>0</td>\n",
       "      <td>0</td>\n",
       "      <td>0</td>\n",
       "      <td>0</td>\n",
       "      <td>1</td>\n",
       "      <td>0</td>\n",
       "      <td>0</td>\n",
       "      <td>0</td>\n",
       "      <td>0</td>\n",
       "    </tr>\n",
       "    <tr>\n",
       "      <th>2</th>\n",
       "      <td>99.0</td>\n",
       "      <td>8990.0</td>\n",
       "      <td>10.0</td>\n",
       "      <td>124.3</td>\n",
       "      <td>50</td>\n",
       "      <td>1039.586179</td>\n",
       "      <td>816.818037</td>\n",
       "      <td>80.0</td>\n",
       "      <td>0</td>\n",
       "      <td>0</td>\n",
       "      <td>...</td>\n",
       "      <td>0</td>\n",
       "      <td>0</td>\n",
       "      <td>0</td>\n",
       "      <td>1</td>\n",
       "      <td>0</td>\n",
       "      <td>0</td>\n",
       "      <td>0</td>\n",
       "      <td>0</td>\n",
       "      <td>0</td>\n",
       "      <td>0</td>\n",
       "    </tr>\n",
       "    <tr>\n",
       "      <th>3</th>\n",
       "      <td>111.0</td>\n",
       "      <td>6306.0</td>\n",
       "      <td>6.0</td>\n",
       "      <td>124.3</td>\n",
       "      <td>33</td>\n",
       "      <td>509.516515</td>\n",
       "      <td>501.364218</td>\n",
       "      <td>80.0</td>\n",
       "      <td>0</td>\n",
       "      <td>0</td>\n",
       "      <td>...</td>\n",
       "      <td>1</td>\n",
       "      <td>0</td>\n",
       "      <td>0</td>\n",
       "      <td>0</td>\n",
       "      <td>0</td>\n",
       "      <td>0</td>\n",
       "      <td>1</td>\n",
       "      <td>0</td>\n",
       "      <td>0</td>\n",
       "      <td>0</td>\n",
       "    </tr>\n",
       "    <tr>\n",
       "      <th>4</th>\n",
       "      <td>122.0</td>\n",
       "      <td>13934.0</td>\n",
       "      <td>10.0</td>\n",
       "      <td>124.3</td>\n",
       "      <td>58</td>\n",
       "      <td>1253.733260</td>\n",
       "      <td>554.491114</td>\n",
       "      <td>88.0</td>\n",
       "      <td>0</td>\n",
       "      <td>0</td>\n",
       "      <td>...</td>\n",
       "      <td>0</td>\n",
       "      <td>0</td>\n",
       "      <td>0</td>\n",
       "      <td>0</td>\n",
       "      <td>0</td>\n",
       "      <td>1</td>\n",
       "      <td>0</td>\n",
       "      <td>0</td>\n",
       "      <td>0</td>\n",
       "      <td>0</td>\n",
       "    </tr>\n",
       "  </tbody>\n",
       "</table>\n",
       "<p>5 rows × 53 columns</p>\n",
       "</div>"
      ],
      "text/plain": [
       "   Area (SQM)  Unit Price ($ PSM)  Floor Number    PPI  \\\n",
       "0        95.0              6316.0           1.0  124.3   \n",
       "1       138.0             13833.0           1.0  124.3   \n",
       "2        99.0              8990.0          10.0  124.3   \n",
       "3       111.0              6306.0           6.0  124.3   \n",
       "4       122.0             13934.0          10.0  124.3   \n",
       "\n",
       "   Average Cases Per Year  Nearest Primary School  nearest_station_distance  \\\n",
       "0                      33              705.752731               1207.822015   \n",
       "1                      58             1233.947139                768.529003   \n",
       "2                      50             1039.586179                816.818037   \n",
       "3                      33              509.516515                501.364218   \n",
       "4                      58             1253.733260                554.491114   \n",
       "\n",
       "   Remaining Lease  Ang Mo Kio  Bedok  ...  Yishun  BLUE  BROWN  GREEN  LRT  \\\n",
       "0             87.0           0      0  ...       0     0      0      0    0   \n",
       "1             88.0           0      0  ...       0     0      0      0    0   \n",
       "2             80.0           0      0  ...       0     0      0      1    0   \n",
       "3             80.0           0      0  ...       1     0      0      0    0   \n",
       "4             88.0           0      0  ...       0     0      0      0    0   \n",
       "\n",
       "   PURPLE  RED  YELLOW  Apartment  Executive Condominium  \n",
       "0       0    0       0          0                      0  \n",
       "1       1    0       0          0                      0  \n",
       "2       0    0       0          0                      0  \n",
       "3       0    1       0          0                      0  \n",
       "4       1    0       0          0                      0  \n",
       "\n",
       "[5 rows x 53 columns]"
      ]
     },
     "execution_count": 3,
     "metadata": {},
     "output_type": "execute_result"
    }
   ],
   "source": [
    "model_df.head()"
   ]
  },
  {
   "cell_type": "markdown",
   "metadata": {},
   "source": [
    "## Train Test Split\n",
    "\n",
    "1. Training set 0.6\n",
    "2. Validation set 0.2\n",
    "3. Test set - 0.2\n",
    "\n",
    "The output variable will be <b>Unit Price ($ PSM)</b>"
   ]
  },
  {
   "cell_type": "code",
   "execution_count": 4,
   "metadata": {},
   "outputs": [
    {
     "name": "stdout",
     "output_type": "stream",
     "text": [
      "Shape of X is: (54674, 52)\n",
      "Shape of Y is: (54674,)\n"
     ]
    }
   ],
   "source": [
    "X = model_df.drop([\"Unit Price ($ PSM)\"], axis=1)\n",
    "y = model_df['Unit Price ($ PSM)']\n",
    "\n",
    "print('Shape of X is:', X.shape)\n",
    "print('Shape of Y is:', y.shape)"
   ]
  },
  {
   "cell_type": "markdown",
   "metadata": {},
   "source": [
    "## Train Test Split"
   ]
  },
  {
   "cell_type": "code",
   "execution_count": 6,
   "metadata": {},
   "outputs": [
    {
     "name": "stdout",
     "output_type": "stream",
     "text": [
      "Shape of X_train is: (38271, 52)\n",
      "Shape of y_train is: (38271,)\n",
      "Shape of X_test is: (16403, 52)\n",
      "Shape of y_test is: (16403,)\n"
     ]
    }
   ],
   "source": [
    "X_train, X_test, y_train, y_test = train_test_split(X, y, test_size=0.3, random_state=42, shuffle=True)\n",
    "\n",
    "print('Shape of X_train is:', X_train.shape)\n",
    "print('Shape of y_train is:', y_train.shape)\n",
    "print('Shape of X_test is:', X_test.shape)\n",
    "print('Shape of y_test is:', y_test.shape)"
   ]
  },
  {
   "cell_type": "markdown",
   "metadata": {},
   "source": [
    "## Scaling "
   ]
  },
  {
   "cell_type": "code",
   "execution_count": 7,
   "metadata": {},
   "outputs": [],
   "source": [
    "all_features = list(X_train.columns)\n",
    "\n",
    "standardScale_vars = ['Area (SQM)',\n",
    "                      'Floor Number',\n",
    "                      'PPI',\n",
    "                      'Average Cases Per Year',\n",
    "                      'Nearest Primary School',\n",
    "                      'nearest_station_distance']\n",
    "\n",
    "minMax_vars = ['Remaining Lease']\n",
    "\n",
    "remaining_features = [x for x in all_features if x not in standardScale_vars and x not in minMax_vars]"
   ]
  },
  {
   "cell_type": "code",
   "execution_count": 8,
   "metadata": {},
   "outputs": [
    {
     "data": {
      "text/html": [
       "<div>\n",
       "<style scoped>\n",
       "    .dataframe tbody tr th:only-of-type {\n",
       "        vertical-align: middle;\n",
       "    }\n",
       "\n",
       "    .dataframe tbody tr th {\n",
       "        vertical-align: top;\n",
       "    }\n",
       "\n",
       "    .dataframe thead th {\n",
       "        text-align: right;\n",
       "    }\n",
       "</style>\n",
       "<table border=\"1\" class=\"dataframe\">\n",
       "  <thead>\n",
       "    <tr style=\"text-align: right;\">\n",
       "      <th></th>\n",
       "      <th>Area (SQM)</th>\n",
       "      <th>Floor Number</th>\n",
       "      <th>PPI</th>\n",
       "      <th>Average Cases Per Year</th>\n",
       "      <th>Nearest Primary School</th>\n",
       "      <th>nearest_station_distance</th>\n",
       "      <th>Remaining Lease</th>\n",
       "      <th>Ang Mo Kio</th>\n",
       "      <th>Bedok</th>\n",
       "      <th>Bishan</th>\n",
       "      <th>...</th>\n",
       "      <th>Yishun</th>\n",
       "      <th>BLUE</th>\n",
       "      <th>BROWN</th>\n",
       "      <th>GREEN</th>\n",
       "      <th>LRT</th>\n",
       "      <th>PURPLE</th>\n",
       "      <th>RED</th>\n",
       "      <th>YELLOW</th>\n",
       "      <th>Apartment</th>\n",
       "      <th>Executive Condominium</th>\n",
       "    </tr>\n",
       "  </thead>\n",
       "  <tbody>\n",
       "    <tr>\n",
       "      <th>11187</th>\n",
       "      <td>0.291530</td>\n",
       "      <td>-0.109176</td>\n",
       "      <td>-0.236229</td>\n",
       "      <td>0.243812</td>\n",
       "      <td>-0.771624</td>\n",
       "      <td>1.226898</td>\n",
       "      <td>0.745098</td>\n",
       "      <td>0</td>\n",
       "      <td>0</td>\n",
       "      <td>0</td>\n",
       "      <td>...</td>\n",
       "      <td>0</td>\n",
       "      <td>0</td>\n",
       "      <td>0</td>\n",
       "      <td>0</td>\n",
       "      <td>0</td>\n",
       "      <td>0</td>\n",
       "      <td>0</td>\n",
       "      <td>0</td>\n",
       "      <td>0</td>\n",
       "      <td>1</td>\n",
       "    </tr>\n",
       "    <tr>\n",
       "      <th>18593</th>\n",
       "      <td>-1.125873</td>\n",
       "      <td>0.371998</td>\n",
       "      <td>0.210453</td>\n",
       "      <td>0.125051</td>\n",
       "      <td>-0.570640</td>\n",
       "      <td>1.231468</td>\n",
       "      <td>0.725490</td>\n",
       "      <td>0</td>\n",
       "      <td>1</td>\n",
       "      <td>0</td>\n",
       "      <td>...</td>\n",
       "      <td>0</td>\n",
       "      <td>0</td>\n",
       "      <td>0</td>\n",
       "      <td>0</td>\n",
       "      <td>0</td>\n",
       "      <td>0</td>\n",
       "      <td>0</td>\n",
       "      <td>0</td>\n",
       "      <td>0</td>\n",
       "      <td>0</td>\n",
       "    </tr>\n",
       "    <tr>\n",
       "      <th>27013</th>\n",
       "      <td>-1.238366</td>\n",
       "      <td>5.785202</td>\n",
       "      <td>-0.452365</td>\n",
       "      <td>0.995966</td>\n",
       "      <td>1.801408</td>\n",
       "      <td>-1.015899</td>\n",
       "      <td>0.764706</td>\n",
       "      <td>0</td>\n",
       "      <td>0</td>\n",
       "      <td>0</td>\n",
       "      <td>...</td>\n",
       "      <td>0</td>\n",
       "      <td>1</td>\n",
       "      <td>0</td>\n",
       "      <td>1</td>\n",
       "      <td>0</td>\n",
       "      <td>0</td>\n",
       "      <td>1</td>\n",
       "      <td>1</td>\n",
       "      <td>1</td>\n",
       "      <td>0</td>\n",
       "    </tr>\n",
       "    <tr>\n",
       "      <th>39116</th>\n",
       "      <td>-0.248433</td>\n",
       "      <td>0.973465</td>\n",
       "      <td>0.109589</td>\n",
       "      <td>0.243812</td>\n",
       "      <td>-0.861865</td>\n",
       "      <td>-0.889309</td>\n",
       "      <td>0.764706</td>\n",
       "      <td>0</td>\n",
       "      <td>0</td>\n",
       "      <td>0</td>\n",
       "      <td>...</td>\n",
       "      <td>0</td>\n",
       "      <td>0</td>\n",
       "      <td>0</td>\n",
       "      <td>0</td>\n",
       "      <td>1</td>\n",
       "      <td>1</td>\n",
       "      <td>0</td>\n",
       "      <td>0</td>\n",
       "      <td>0</td>\n",
       "      <td>0</td>\n",
       "    </tr>\n",
       "    <tr>\n",
       "      <th>6042</th>\n",
       "      <td>-0.113442</td>\n",
       "      <td>3.259040</td>\n",
       "      <td>-1.187229</td>\n",
       "      <td>0.006290</td>\n",
       "      <td>-0.716828</td>\n",
       "      <td>-0.836027</td>\n",
       "      <td>0.784314</td>\n",
       "      <td>0</td>\n",
       "      <td>0</td>\n",
       "      <td>0</td>\n",
       "      <td>...</td>\n",
       "      <td>0</td>\n",
       "      <td>0</td>\n",
       "      <td>0</td>\n",
       "      <td>1</td>\n",
       "      <td>0</td>\n",
       "      <td>0</td>\n",
       "      <td>0</td>\n",
       "      <td>0</td>\n",
       "      <td>0</td>\n",
       "      <td>0</td>\n",
       "    </tr>\n",
       "    <tr>\n",
       "      <th>...</th>\n",
       "      <td>...</td>\n",
       "      <td>...</td>\n",
       "      <td>...</td>\n",
       "      <td>...</td>\n",
       "      <td>...</td>\n",
       "      <td>...</td>\n",
       "      <td>...</td>\n",
       "      <td>...</td>\n",
       "      <td>...</td>\n",
       "      <td>...</td>\n",
       "      <td>...</td>\n",
       "      <td>...</td>\n",
       "      <td>...</td>\n",
       "      <td>...</td>\n",
       "      <td>...</td>\n",
       "      <td>...</td>\n",
       "      <td>...</td>\n",
       "      <td>...</td>\n",
       "      <td>...</td>\n",
       "      <td>...</td>\n",
       "      <td>...</td>\n",
       "    </tr>\n",
       "    <tr>\n",
       "      <th>44732</th>\n",
       "      <td>-0.203436</td>\n",
       "      <td>-0.830937</td>\n",
       "      <td>0.628316</td>\n",
       "      <td>-0.943799</td>\n",
       "      <td>-1.218061</td>\n",
       "      <td>-0.237225</td>\n",
       "      <td>0.509804</td>\n",
       "      <td>1</td>\n",
       "      <td>0</td>\n",
       "      <td>0</td>\n",
       "      <td>...</td>\n",
       "      <td>0</td>\n",
       "      <td>0</td>\n",
       "      <td>0</td>\n",
       "      <td>0</td>\n",
       "      <td>0</td>\n",
       "      <td>0</td>\n",
       "      <td>1</td>\n",
       "      <td>0</td>\n",
       "      <td>0</td>\n",
       "      <td>0</td>\n",
       "    </tr>\n",
       "    <tr>\n",
       "      <th>54343</th>\n",
       "      <td>-1.125873</td>\n",
       "      <td>-0.951230</td>\n",
       "      <td>1.795452</td>\n",
       "      <td>0.164638</td>\n",
       "      <td>-0.556898</td>\n",
       "      <td>0.062359</td>\n",
       "      <td>0.784314</td>\n",
       "      <td>0</td>\n",
       "      <td>0</td>\n",
       "      <td>0</td>\n",
       "      <td>...</td>\n",
       "      <td>0</td>\n",
       "      <td>0</td>\n",
       "      <td>1</td>\n",
       "      <td>0</td>\n",
       "      <td>0</td>\n",
       "      <td>0</td>\n",
       "      <td>1</td>\n",
       "      <td>0</td>\n",
       "      <td>0</td>\n",
       "      <td>0</td>\n",
       "    </tr>\n",
       "    <tr>\n",
       "      <th>38158</th>\n",
       "      <td>-0.945886</td>\n",
       "      <td>-0.830937</td>\n",
       "      <td>0.109589</td>\n",
       "      <td>3.252428</td>\n",
       "      <td>0.204740</td>\n",
       "      <td>-0.494623</td>\n",
       "      <td>0.568627</td>\n",
       "      <td>0</td>\n",
       "      <td>0</td>\n",
       "      <td>0</td>\n",
       "      <td>...</td>\n",
       "      <td>0</td>\n",
       "      <td>1</td>\n",
       "      <td>0</td>\n",
       "      <td>0</td>\n",
       "      <td>0</td>\n",
       "      <td>1</td>\n",
       "      <td>0</td>\n",
       "      <td>0</td>\n",
       "      <td>0</td>\n",
       "      <td>0</td>\n",
       "    </tr>\n",
       "    <tr>\n",
       "      <th>860</th>\n",
       "      <td>-0.563412</td>\n",
       "      <td>0.492291</td>\n",
       "      <td>-2.383183</td>\n",
       "      <td>2.896144</td>\n",
       "      <td>-0.041901</td>\n",
       "      <td>-0.749697</td>\n",
       "      <td>0.705882</td>\n",
       "      <td>0</td>\n",
       "      <td>0</td>\n",
       "      <td>0</td>\n",
       "      <td>...</td>\n",
       "      <td>0</td>\n",
       "      <td>0</td>\n",
       "      <td>0</td>\n",
       "      <td>1</td>\n",
       "      <td>0</td>\n",
       "      <td>0</td>\n",
       "      <td>0</td>\n",
       "      <td>1</td>\n",
       "      <td>0</td>\n",
       "      <td>0</td>\n",
       "    </tr>\n",
       "    <tr>\n",
       "      <th>15795</th>\n",
       "      <td>-0.518415</td>\n",
       "      <td>0.492291</td>\n",
       "      <td>0.109589</td>\n",
       "      <td>0.125051</td>\n",
       "      <td>0.706979</td>\n",
       "      <td>1.325680</td>\n",
       "      <td>0.647059</td>\n",
       "      <td>0</td>\n",
       "      <td>1</td>\n",
       "      <td>0</td>\n",
       "      <td>...</td>\n",
       "      <td>0</td>\n",
       "      <td>0</td>\n",
       "      <td>0</td>\n",
       "      <td>0</td>\n",
       "      <td>0</td>\n",
       "      <td>0</td>\n",
       "      <td>0</td>\n",
       "      <td>0</td>\n",
       "      <td>0</td>\n",
       "      <td>0</td>\n",
       "    </tr>\n",
       "  </tbody>\n",
       "</table>\n",
       "<p>38271 rows × 52 columns</p>\n",
       "</div>"
      ],
      "text/plain": [
       "       Area (SQM)  Floor Number       PPI  Average Cases Per Year  \\\n",
       "11187    0.291530     -0.109176 -0.236229                0.243812   \n",
       "18593   -1.125873      0.371998  0.210453                0.125051   \n",
       "27013   -1.238366      5.785202 -0.452365                0.995966   \n",
       "39116   -0.248433      0.973465  0.109589                0.243812   \n",
       "6042    -0.113442      3.259040 -1.187229                0.006290   \n",
       "...           ...           ...       ...                     ...   \n",
       "44732   -0.203436     -0.830937  0.628316               -0.943799   \n",
       "54343   -1.125873     -0.951230  1.795452                0.164638   \n",
       "38158   -0.945886     -0.830937  0.109589                3.252428   \n",
       "860     -0.563412      0.492291 -2.383183                2.896144   \n",
       "15795   -0.518415      0.492291  0.109589                0.125051   \n",
       "\n",
       "       Nearest Primary School  nearest_station_distance  Remaining Lease  \\\n",
       "11187               -0.771624                  1.226898         0.745098   \n",
       "18593               -0.570640                  1.231468         0.725490   \n",
       "27013                1.801408                 -1.015899         0.764706   \n",
       "39116               -0.861865                 -0.889309         0.764706   \n",
       "6042                -0.716828                 -0.836027         0.784314   \n",
       "...                       ...                       ...              ...   \n",
       "44732               -1.218061                 -0.237225         0.509804   \n",
       "54343               -0.556898                  0.062359         0.784314   \n",
       "38158                0.204740                 -0.494623         0.568627   \n",
       "860                 -0.041901                 -0.749697         0.705882   \n",
       "15795                0.706979                  1.325680         0.647059   \n",
       "\n",
       "       Ang Mo Kio  Bedok  Bishan  ...  Yishun  BLUE  BROWN  GREEN  LRT  \\\n",
       "11187           0      0       0  ...       0     0      0      0    0   \n",
       "18593           0      1       0  ...       0     0      0      0    0   \n",
       "27013           0      0       0  ...       0     1      0      1    0   \n",
       "39116           0      0       0  ...       0     0      0      0    1   \n",
       "6042            0      0       0  ...       0     0      0      1    0   \n",
       "...           ...    ...     ...  ...     ...   ...    ...    ...  ...   \n",
       "44732           1      0       0  ...       0     0      0      0    0   \n",
       "54343           0      0       0  ...       0     0      1      0    0   \n",
       "38158           0      0       0  ...       0     1      0      0    0   \n",
       "860             0      0       0  ...       0     0      0      1    0   \n",
       "15795           0      1       0  ...       0     0      0      0    0   \n",
       "\n",
       "       PURPLE  RED  YELLOW  Apartment  Executive Condominium  \n",
       "11187       0    0       0          0                      1  \n",
       "18593       0    0       0          0                      0  \n",
       "27013       0    1       1          1                      0  \n",
       "39116       1    0       0          0                      0  \n",
       "6042        0    0       0          0                      0  \n",
       "...       ...  ...     ...        ...                    ...  \n",
       "44732       0    1       0          0                      0  \n",
       "54343       0    1       0          0                      0  \n",
       "38158       1    0       0          0                      0  \n",
       "860         0    0       1          0                      0  \n",
       "15795       0    0       0          0                      0  \n",
       "\n",
       "[38271 rows x 52 columns]"
      ]
     },
     "execution_count": 8,
     "metadata": {},
     "output_type": "execute_result"
    }
   ],
   "source": [
    "s_scaler = StandardScaler()\n",
    "mm_scaler = MinMaxScaler()\n",
    "\n",
    "s_scaled = pd.DataFrame(s_scaler.fit_transform(X_train.loc[:, standardScale_vars].copy()), columns=standardScale_vars, index=X_train.index)\n",
    "mm_scaled = pd.DataFrame(mm_scaler.fit_transform(X_train.loc[:, minMax_vars].copy()), columns=minMax_vars, index=X_train.index)\n",
    "\n",
    "X_train = pd.concat([s_scaled, \n",
    "                     mm_scaled,\n",
    "                     X_train.loc[:, remaining_features].copy()], axis=1)\n",
    "X_train"
   ]
  },
  {
   "cell_type": "code",
   "execution_count": 9,
   "metadata": {},
   "outputs": [
    {
     "data": {
      "text/html": [
       "<div>\n",
       "<style scoped>\n",
       "    .dataframe tbody tr th:only-of-type {\n",
       "        vertical-align: middle;\n",
       "    }\n",
       "\n",
       "    .dataframe tbody tr th {\n",
       "        vertical-align: top;\n",
       "    }\n",
       "\n",
       "    .dataframe thead th {\n",
       "        text-align: right;\n",
       "    }\n",
       "</style>\n",
       "<table border=\"1\" class=\"dataframe\">\n",
       "  <thead>\n",
       "    <tr style=\"text-align: right;\">\n",
       "      <th></th>\n",
       "      <th>Area (SQM)</th>\n",
       "      <th>Floor Number</th>\n",
       "      <th>PPI</th>\n",
       "      <th>Average Cases Per Year</th>\n",
       "      <th>Nearest Primary School</th>\n",
       "      <th>nearest_station_distance</th>\n",
       "      <th>Remaining Lease</th>\n",
       "      <th>Ang Mo Kio</th>\n",
       "      <th>Bedok</th>\n",
       "      <th>Bishan</th>\n",
       "      <th>...</th>\n",
       "      <th>Yishun</th>\n",
       "      <th>BLUE</th>\n",
       "      <th>BROWN</th>\n",
       "      <th>GREEN</th>\n",
       "      <th>LRT</th>\n",
       "      <th>PURPLE</th>\n",
       "      <th>RED</th>\n",
       "      <th>YELLOW</th>\n",
       "      <th>Apartment</th>\n",
       "      <th>Executive Condominium</th>\n",
       "    </tr>\n",
       "  </thead>\n",
       "  <tbody>\n",
       "    <tr>\n",
       "      <th>26109</th>\n",
       "      <td>0.134041</td>\n",
       "      <td>0.011118</td>\n",
       "      <td>-0.149775</td>\n",
       "      <td>0.243812</td>\n",
       "      <td>-0.629690</td>\n",
       "      <td>-0.453873</td>\n",
       "      <td>0.666667</td>\n",
       "      <td>0</td>\n",
       "      <td>0</td>\n",
       "      <td>0</td>\n",
       "      <td>...</td>\n",
       "      <td>0</td>\n",
       "      <td>0</td>\n",
       "      <td>0</td>\n",
       "      <td>0</td>\n",
       "      <td>1</td>\n",
       "      <td>1</td>\n",
       "      <td>0</td>\n",
       "      <td>0</td>\n",
       "      <td>0</td>\n",
       "      <td>1</td>\n",
       "    </tr>\n",
       "    <tr>\n",
       "      <th>51446</th>\n",
       "      <td>-0.765898</td>\n",
       "      <td>-0.830937</td>\n",
       "      <td>1.147043</td>\n",
       "      <td>-0.864625</td>\n",
       "      <td>-1.058519</td>\n",
       "      <td>-0.912692</td>\n",
       "      <td>0.823529</td>\n",
       "      <td>0</td>\n",
       "      <td>0</td>\n",
       "      <td>0</td>\n",
       "      <td>...</td>\n",
       "      <td>0</td>\n",
       "      <td>1</td>\n",
       "      <td>0</td>\n",
       "      <td>1</td>\n",
       "      <td>0</td>\n",
       "      <td>0</td>\n",
       "      <td>0</td>\n",
       "      <td>0</td>\n",
       "      <td>0</td>\n",
       "      <td>0</td>\n",
       "    </tr>\n",
       "    <tr>\n",
       "      <th>21609</th>\n",
       "      <td>0.224035</td>\n",
       "      <td>-0.349763</td>\n",
       "      <td>1.031770</td>\n",
       "      <td>2.896144</td>\n",
       "      <td>2.509617</td>\n",
       "      <td>0.157013</td>\n",
       "      <td>0.705882</td>\n",
       "      <td>0</td>\n",
       "      <td>0</td>\n",
       "      <td>0</td>\n",
       "      <td>...</td>\n",
       "      <td>0</td>\n",
       "      <td>0</td>\n",
       "      <td>0</td>\n",
       "      <td>0</td>\n",
       "      <td>0</td>\n",
       "      <td>0</td>\n",
       "      <td>0</td>\n",
       "      <td>1</td>\n",
       "      <td>0</td>\n",
       "      <td>0</td>\n",
       "    </tr>\n",
       "    <tr>\n",
       "      <th>6390</th>\n",
       "      <td>-0.045947</td>\n",
       "      <td>-0.951230</td>\n",
       "      <td>-1.187229</td>\n",
       "      <td>-0.033297</td>\n",
       "      <td>0.062520</td>\n",
       "      <td>-0.976248</td>\n",
       "      <td>0.843137</td>\n",
       "      <td>0</td>\n",
       "      <td>0</td>\n",
       "      <td>0</td>\n",
       "      <td>...</td>\n",
       "      <td>0</td>\n",
       "      <td>0</td>\n",
       "      <td>0</td>\n",
       "      <td>0</td>\n",
       "      <td>1</td>\n",
       "      <td>0</td>\n",
       "      <td>1</td>\n",
       "      <td>0</td>\n",
       "      <td>0</td>\n",
       "      <td>0</td>\n",
       "    </tr>\n",
       "    <tr>\n",
       "      <th>40798</th>\n",
       "      <td>5.983642</td>\n",
       "      <td>3.018453</td>\n",
       "      <td>0.757998</td>\n",
       "      <td>-1.102147</td>\n",
       "      <td>0.138606</td>\n",
       "      <td>-0.501497</td>\n",
       "      <td>0.862745</td>\n",
       "      <td>0</td>\n",
       "      <td>0</td>\n",
       "      <td>0</td>\n",
       "      <td>...</td>\n",
       "      <td>0</td>\n",
       "      <td>0</td>\n",
       "      <td>0</td>\n",
       "      <td>0</td>\n",
       "      <td>0</td>\n",
       "      <td>0</td>\n",
       "      <td>0</td>\n",
       "      <td>1</td>\n",
       "      <td>0</td>\n",
       "      <td>0</td>\n",
       "    </tr>\n",
       "    <tr>\n",
       "      <th>...</th>\n",
       "      <td>...</td>\n",
       "      <td>...</td>\n",
       "      <td>...</td>\n",
       "      <td>...</td>\n",
       "      <td>...</td>\n",
       "      <td>...</td>\n",
       "      <td>...</td>\n",
       "      <td>...</td>\n",
       "      <td>...</td>\n",
       "      <td>...</td>\n",
       "      <td>...</td>\n",
       "      <td>...</td>\n",
       "      <td>...</td>\n",
       "      <td>...</td>\n",
       "      <td>...</td>\n",
       "      <td>...</td>\n",
       "      <td>...</td>\n",
       "      <td>...</td>\n",
       "      <td>...</td>\n",
       "      <td>...</td>\n",
       "      <td>...</td>\n",
       "    </tr>\n",
       "    <tr>\n",
       "      <th>7350</th>\n",
       "      <td>1.056478</td>\n",
       "      <td>0.612585</td>\n",
       "      <td>-0.841411</td>\n",
       "      <td>-0.389580</td>\n",
       "      <td>0.018348</td>\n",
       "      <td>0.334854</td>\n",
       "      <td>0.509804</td>\n",
       "      <td>0</td>\n",
       "      <td>0</td>\n",
       "      <td>0</td>\n",
       "      <td>...</td>\n",
       "      <td>0</td>\n",
       "      <td>0</td>\n",
       "      <td>0</td>\n",
       "      <td>1</td>\n",
       "      <td>0</td>\n",
       "      <td>0</td>\n",
       "      <td>0</td>\n",
       "      <td>0</td>\n",
       "      <td>0</td>\n",
       "      <td>0</td>\n",
       "    </tr>\n",
       "    <tr>\n",
       "      <th>24268</th>\n",
       "      <td>-0.248433</td>\n",
       "      <td>0.011118</td>\n",
       "      <td>0.440998</td>\n",
       "      <td>-0.349993</td>\n",
       "      <td>0.014873</td>\n",
       "      <td>1.248442</td>\n",
       "      <td>0.627451</td>\n",
       "      <td>0</td>\n",
       "      <td>0</td>\n",
       "      <td>0</td>\n",
       "      <td>...</td>\n",
       "      <td>0</td>\n",
       "      <td>0</td>\n",
       "      <td>0</td>\n",
       "      <td>0</td>\n",
       "      <td>0</td>\n",
       "      <td>0</td>\n",
       "      <td>0</td>\n",
       "      <td>0</td>\n",
       "      <td>1</td>\n",
       "      <td>0</td>\n",
       "    </tr>\n",
       "    <tr>\n",
       "      <th>29622</th>\n",
       "      <td>0.089044</td>\n",
       "      <td>-0.470056</td>\n",
       "      <td>-0.855820</td>\n",
       "      <td>0.402161</td>\n",
       "      <td>-0.675015</td>\n",
       "      <td>1.227770</td>\n",
       "      <td>0.647059</td>\n",
       "      <td>0</td>\n",
       "      <td>0</td>\n",
       "      <td>0</td>\n",
       "      <td>...</td>\n",
       "      <td>0</td>\n",
       "      <td>0</td>\n",
       "      <td>0</td>\n",
       "      <td>0</td>\n",
       "      <td>0</td>\n",
       "      <td>0</td>\n",
       "      <td>0</td>\n",
       "      <td>0</td>\n",
       "      <td>0</td>\n",
       "      <td>1</td>\n",
       "    </tr>\n",
       "    <tr>\n",
       "      <th>50030</th>\n",
       "      <td>-1.575843</td>\n",
       "      <td>0.492291</td>\n",
       "      <td>1.132634</td>\n",
       "      <td>0.243812</td>\n",
       "      <td>-0.740679</td>\n",
       "      <td>-0.669763</td>\n",
       "      <td>0.882353</td>\n",
       "      <td>0</td>\n",
       "      <td>0</td>\n",
       "      <td>0</td>\n",
       "      <td>...</td>\n",
       "      <td>0</td>\n",
       "      <td>0</td>\n",
       "      <td>0</td>\n",
       "      <td>0</td>\n",
       "      <td>1</td>\n",
       "      <td>0</td>\n",
       "      <td>0</td>\n",
       "      <td>0</td>\n",
       "      <td>0</td>\n",
       "      <td>0</td>\n",
       "    </tr>\n",
       "    <tr>\n",
       "      <th>35570</th>\n",
       "      <td>-0.653406</td>\n",
       "      <td>-0.710643</td>\n",
       "      <td>-0.754956</td>\n",
       "      <td>-0.864625</td>\n",
       "      <td>-0.548820</td>\n",
       "      <td>-0.653270</td>\n",
       "      <td>0.843137</td>\n",
       "      <td>0</td>\n",
       "      <td>0</td>\n",
       "      <td>0</td>\n",
       "      <td>...</td>\n",
       "      <td>0</td>\n",
       "      <td>1</td>\n",
       "      <td>0</td>\n",
       "      <td>1</td>\n",
       "      <td>0</td>\n",
       "      <td>0</td>\n",
       "      <td>0</td>\n",
       "      <td>0</td>\n",
       "      <td>0</td>\n",
       "      <td>0</td>\n",
       "    </tr>\n",
       "  </tbody>\n",
       "</table>\n",
       "<p>16403 rows × 52 columns</p>\n",
       "</div>"
      ],
      "text/plain": [
       "       Area (SQM)  Floor Number       PPI  Average Cases Per Year  \\\n",
       "26109    0.134041      0.011118 -0.149775                0.243812   \n",
       "51446   -0.765898     -0.830937  1.147043               -0.864625   \n",
       "21609    0.224035     -0.349763  1.031770                2.896144   \n",
       "6390    -0.045947     -0.951230 -1.187229               -0.033297   \n",
       "40798    5.983642      3.018453  0.757998               -1.102147   \n",
       "...           ...           ...       ...                     ...   \n",
       "7350     1.056478      0.612585 -0.841411               -0.389580   \n",
       "24268   -0.248433      0.011118  0.440998               -0.349993   \n",
       "29622    0.089044     -0.470056 -0.855820                0.402161   \n",
       "50030   -1.575843      0.492291  1.132634                0.243812   \n",
       "35570   -0.653406     -0.710643 -0.754956               -0.864625   \n",
       "\n",
       "       Nearest Primary School  nearest_station_distance  Remaining Lease  \\\n",
       "26109               -0.629690                 -0.453873         0.666667   \n",
       "51446               -1.058519                 -0.912692         0.823529   \n",
       "21609                2.509617                  0.157013         0.705882   \n",
       "6390                 0.062520                 -0.976248         0.843137   \n",
       "40798                0.138606                 -0.501497         0.862745   \n",
       "...                       ...                       ...              ...   \n",
       "7350                 0.018348                  0.334854         0.509804   \n",
       "24268                0.014873                  1.248442         0.627451   \n",
       "29622               -0.675015                  1.227770         0.647059   \n",
       "50030               -0.740679                 -0.669763         0.882353   \n",
       "35570               -0.548820                 -0.653270         0.843137   \n",
       "\n",
       "       Ang Mo Kio  Bedok  Bishan  ...  Yishun  BLUE  BROWN  GREEN  LRT  \\\n",
       "26109           0      0       0  ...       0     0      0      0    1   \n",
       "51446           0      0       0  ...       0     1      0      1    0   \n",
       "21609           0      0       0  ...       0     0      0      0    0   \n",
       "6390            0      0       0  ...       0     0      0      0    1   \n",
       "40798           0      0       0  ...       0     0      0      0    0   \n",
       "...           ...    ...     ...  ...     ...   ...    ...    ...  ...   \n",
       "7350            0      0       0  ...       0     0      0      1    0   \n",
       "24268           0      0       0  ...       0     0      0      0    0   \n",
       "29622           0      0       0  ...       0     0      0      0    0   \n",
       "50030           0      0       0  ...       0     0      0      0    1   \n",
       "35570           0      0       0  ...       0     1      0      1    0   \n",
       "\n",
       "       PURPLE  RED  YELLOW  Apartment  Executive Condominium  \n",
       "26109       1    0       0          0                      1  \n",
       "51446       0    0       0          0                      0  \n",
       "21609       0    0       1          0                      0  \n",
       "6390        0    1       0          0                      0  \n",
       "40798       0    0       1          0                      0  \n",
       "...       ...  ...     ...        ...                    ...  \n",
       "7350        0    0       0          0                      0  \n",
       "24268       0    0       0          1                      0  \n",
       "29622       0    0       0          0                      1  \n",
       "50030       0    0       0          0                      0  \n",
       "35570       0    0       0          0                      0  \n",
       "\n",
       "[16403 rows x 52 columns]"
      ]
     },
     "execution_count": 9,
     "metadata": {},
     "output_type": "execute_result"
    }
   ],
   "source": [
    "s_scaled_test = pd.DataFrame(s_scaler.transform(X_test.loc[:, standardScale_vars].copy()), columns=standardScale_vars, index=X_test.index)\n",
    "mm_scaled_test = pd.DataFrame(mm_scaler.fit_transform(X_test.loc[:, minMax_vars].copy()), columns=minMax_vars, index=X_test.index)\n",
    "\n",
    "X_test = pd.concat([s_scaled_test, \n",
    "                     mm_scaled_test,\n",
    "                     X_test.loc[:, remaining_features].copy()], axis=1)\n",
    "X_test"
   ]
  },
  {
   "cell_type": "markdown",
   "metadata": {},
   "source": [
    "## Model Tuning"
   ]
  },
  {
   "cell_type": "markdown",
   "metadata": {},
   "source": [
    "Split training set into training and evaluation"
   ]
  },
  {
   "cell_type": "code",
   "execution_count": 10,
   "metadata": {},
   "outputs": [
    {
     "name": "stdout",
     "output_type": "stream",
     "text": [
      "Shape of X_train is: (30616, 52)\n",
      "Shape of y_train is: (30616,)\n",
      "Shape of X_eval is: (7655, 52)\n",
      "Shape of y_eval is: (7655,)\n"
     ]
    }
   ],
   "source": [
    "X_train, X_eval, y_train, y_eval = train_test_split(X_train, y_train, test_size=0.2, random_state=42, shuffle=True)\n",
    "\n",
    "print('Shape of X_train is:', X_train.shape)\n",
    "print('Shape of y_train is:', y_train.shape)\n",
    "print('Shape of X_eval is:', X_eval.shape)\n",
    "print('Shape of y_eval is:', y_eval.shape)"
   ]
  },
  {
   "cell_type": "markdown",
   "metadata": {},
   "source": [
    "### Random Forest Regressor "
   ]
  },
  {
   "cell_type": "markdown",
   "metadata": {},
   "source": [
    "Select hyperparameters"
   ]
  },
  {
   "cell_type": "code",
   "execution_count": 1,
   "metadata": {},
   "outputs": [],
   "source": [
    "# Create the parameter grid: gbm_param_grid \n",
    "gbm_param_grid = {'max_depth':[i for i in range(30, 50)], \n",
    "                  'min_samples_leaf':[i for i in range(1, 20)], \n",
    "                  'min_samples_split':[i for i in range(2, 10)], \n",
    "                  'min_impurity_decrease':[i for i in range(10, 20)], \n",
    "                  'min_weight_fraction_leaf':[i/10.0 for i in range(0,5)],\n",
    "                  'max_leaf_nodes':[i for i in range(10, 20)], \n",
    "}\n",
    "\n",
    "# Instantiate the regressor: lgbm\n",
    "model = RandomForestRegressor(bootstrap=False, criterion='mse', max_features='sqrt', \n",
    "                              n_estimators=6500, random_state=42) \n",
    "\n",
    "# Perform random search: grid_mse\n",
    "clf = RandomizedSearchCV(model, gbm_param_grid, random_state=0)\n",
    "\n",
    "\n",
    "# Fit randomized_mse to the data\n",
    "search = clf.fit(X_train, y_train)\n",
    "\n",
    "# Print the best parameters and lowest RMSE\n",
    "from pprint import pprint\n",
    "pprint(search.best_estimator_.get_params())"
   ]
  },
  {
   "cell_type": "code",
   "execution_count": 11,
   "metadata": {},
   "outputs": [],
   "source": [
    "model = RandomForestRegressor(bootstrap=False,\n",
    "                              criterion='mse',\n",
    "                              max_depth=33,\n",
    "                              max_features='sqrt',\n",
    "                              min_samples_leaf=2,\n",
    "                              min_samples_split=2,\n",
    "                              n_estimators=6500,\n",
    "                              random_state=42)"
   ]
  },
  {
   "cell_type": "code",
   "execution_count": 12,
   "metadata": {},
   "outputs": [
    {
     "data": {
      "text/plain": [
       "RandomForestRegressor(bootstrap=False, max_depth=33, max_features='sqrt',\n",
       "                      min_samples_leaf=2, n_estimators=6500, random_state=42)"
      ]
     },
     "execution_count": 12,
     "metadata": {},
     "output_type": "execute_result"
    }
   ],
   "source": [
    "model.fit(X_train, y_train)"
   ]
  },
  {
   "cell_type": "code",
   "execution_count": 13,
   "metadata": {},
   "outputs": [],
   "source": [
    "predict_price_xgb = model.predict(X_eval)"
   ]
  },
  {
   "cell_type": "code",
   "execution_count": 14,
   "metadata": {},
   "outputs": [
    {
     "data": {
      "text/plain": [
       "array([10063.19446185,  9539.23517628, 14636.50541286, ...,\n",
       "       10820.0670197 , 18698.9317689 ,  8487.54318089])"
      ]
     },
     "execution_count": 14,
     "metadata": {},
     "output_type": "execute_result"
    }
   ],
   "source": [
    "predict_price_xgb"
   ]
  },
  {
   "cell_type": "markdown",
   "metadata": {},
   "source": [
    "Both <b>y_test</b> (the actual test values) and <b>predict_price</b> (the predicted values) are reshaped in order to compare the model accuracy using the root mean squared error."
   ]
  },
  {
   "cell_type": "code",
   "execution_count": 15,
   "metadata": {},
   "outputs": [],
   "source": [
    "y_eval_xgb = np.array(y_eval)\n",
    "y_eval_xgb = y_eval_xgb.reshape(-1,1)\n",
    "predict_price_xgb = predict_price_xgb.reshape(-1,1)"
   ]
  },
  {
   "cell_type": "markdown",
   "metadata": {},
   "source": [
    "### Root Mean Squared Error (RMSE)"
   ]
  },
  {
   "cell_type": "code",
   "execution_count": 16,
   "metadata": {
    "scrolled": true
   },
   "outputs": [
    {
     "name": "stdout",
     "output_type": "stream",
     "text": [
      "RMSE: 850.815577\n"
     ]
    }
   ],
   "source": [
    "eval_mse = mean_squared_error(y_eval_xgb, predict_price_xgb)\n",
    "rmse = sqrt(eval_mse)\n",
    "print('RMSE: %f' % rmse)"
   ]
  },
  {
   "cell_type": "markdown",
   "metadata": {},
   "source": [
    "Let’s compare this to the mean value across the test data:"
   ]
  },
  {
   "cell_type": "code",
   "execution_count": 17,
   "metadata": {},
   "outputs": [
    {
     "data": {
      "text/plain": [
       "11215.052775963422"
      ]
     },
     "execution_count": 17,
     "metadata": {},
     "output_type": "execute_result"
    }
   ],
   "source": [
    "np.mean(y_eval_xgb)"
   ]
  },
  {
   "cell_type": "code",
   "execution_count": 18,
   "metadata": {},
   "outputs": [
    {
     "name": "stdout",
     "output_type": "stream",
     "text": [
      "Size of error is approximately: 7.586371582836665\n"
     ]
    }
   ],
   "source": [
    "print('Size of error is approximately:', float(rmse/np.mean(y_eval_xgb)*100))"
   ]
  },
  {
   "cell_type": "markdown",
   "metadata": {},
   "source": [
    "### Mean Absolute Percentage Error "
   ]
  },
  {
   "cell_type": "code",
   "execution_count": 19,
   "metadata": {},
   "outputs": [],
   "source": [
    "def mean_absolute_percentage_error(y_true, y_pred): \n",
    "    y_true, y_pred = np.array(y_true), np.array(y_pred)\n",
    "    return np.mean(np.abs((y_true - y_pred) / y_true)) * 100\n",
    "\n",
    "mape_xgb = mean_absolute_percentage_error(y_eval_xgb, predict_price_xgb)"
   ]
  },
  {
   "cell_type": "code",
   "execution_count": 20,
   "metadata": {},
   "outputs": [
    {
     "name": "stdout",
     "output_type": "stream",
     "text": [
      "MAPE: 4.762758307130743\n"
     ]
    }
   ],
   "source": [
    "print('MAPE:', mape_xgb)"
   ]
  },
  {
   "cell_type": "markdown",
   "metadata": {},
   "source": [
    "### Root Mean Squared Log Error "
   ]
  },
  {
   "cell_type": "code",
   "execution_count": 21,
   "metadata": {},
   "outputs": [
    {
     "name": "stdout",
     "output_type": "stream",
     "text": [
      "RMSLE: 0.065679\n"
     ]
    }
   ],
   "source": [
    "eval_msle = mean_squared_log_error(y_eval_xgb, predict_price_xgb)\n",
    "rmsle = sqrt(eval_msle)\n",
    "print('RMSLE: %f' % rmsle)"
   ]
  },
  {
   "cell_type": "markdown",
   "metadata": {},
   "source": [
    "Average house price will be 1.05 times as big as the true value"
   ]
  },
  {
   "cell_type": "markdown",
   "metadata": {},
   "source": [
    "### Adjusted R^2"
   ]
  },
  {
   "cell_type": "code",
   "execution_count": 22,
   "metadata": {},
   "outputs": [
    {
     "name": "stdout",
     "output_type": "stream",
     "text": [
      "Adjusted R^2: 0.989879\n"
     ]
    }
   ],
   "source": [
    "adj_r = 1 - (1-model.score(X_train, y_train))*(len(y_train)-1)/(len(y_train)-X_train.shape[1]-1)\n",
    "print('Adjusted R^2: %f' % adj_r)"
   ]
  },
  {
   "cell_type": "markdown",
   "metadata": {},
   "source": [
    "## Predict on Test Dataset"
   ]
  },
  {
   "cell_type": "code",
   "execution_count": 23,
   "metadata": {},
   "outputs": [],
   "source": [
    "predict_price = model.predict(X_test)"
   ]
  },
  {
   "cell_type": "code",
   "execution_count": 24,
   "metadata": {},
   "outputs": [],
   "source": [
    "y_test_xgb = np.array(y_test)\n",
    "y_test_xgb = y_test_xgb.reshape(-1,1)\n",
    "predict_test_price = predict_price.reshape(-1,1)"
   ]
  },
  {
   "cell_type": "markdown",
   "metadata": {},
   "source": [
    "<b>RMSE</b>"
   ]
  },
  {
   "cell_type": "code",
   "execution_count": 25,
   "metadata": {},
   "outputs": [
    {
     "name": "stdout",
     "output_type": "stream",
     "text": [
      "RMSE: 892.198409\n"
     ]
    }
   ],
   "source": [
    "test_mse = mean_squared_error(y_test_xgb, predict_test_price)\n",
    "rmse = sqrt(test_mse)\n",
    "print('RMSE: %f' % rmse)"
   ]
  },
  {
   "cell_type": "code",
   "execution_count": 26,
   "metadata": {},
   "outputs": [
    {
     "data": {
      "text/plain": [
       "11237.164969822594"
      ]
     },
     "execution_count": 26,
     "metadata": {},
     "output_type": "execute_result"
    }
   ],
   "source": [
    "np.mean(y_test_xgb)"
   ]
  },
  {
   "cell_type": "code",
   "execution_count": 27,
   "metadata": {},
   "outputs": [
    {
     "name": "stdout",
     "output_type": "stream",
     "text": [
      "Size of error is approximately: 7.93971087057534\n"
     ]
    }
   ],
   "source": [
    "print('Size of error is approximately:', float(rmse/np.mean(y_test_xgb)*100))"
   ]
  },
  {
   "cell_type": "markdown",
   "metadata": {},
   "source": [
    "<b>MAPE</b>"
   ]
  },
  {
   "cell_type": "code",
   "execution_count": 28,
   "metadata": {},
   "outputs": [],
   "source": [
    "mape_test_xgb = mean_absolute_percentage_error(y_test_xgb, predict_test_price)"
   ]
  },
  {
   "cell_type": "code",
   "execution_count": 29,
   "metadata": {},
   "outputs": [
    {
     "name": "stdout",
     "output_type": "stream",
     "text": [
      "MAPE: 4.853895316690389\n"
     ]
    }
   ],
   "source": [
    "print('MAPE:', mape_test_xgb)"
   ]
  },
  {
   "cell_type": "markdown",
   "metadata": {},
   "source": [
    "<b>RMSLE</b>"
   ]
  },
  {
   "cell_type": "code",
   "execution_count": 30,
   "metadata": {},
   "outputs": [
    {
     "name": "stdout",
     "output_type": "stream",
     "text": [
      "RMSLE: 0.070815\n"
     ]
    }
   ],
   "source": [
    "test_msle = mean_squared_log_error(y_test_xgb, predict_test_price)\n",
    "rmsle = sqrt(test_msle)\n",
    "print('RMSLE: %f' % rmsle)"
   ]
  },
  {
   "cell_type": "code",
   "execution_count": 22,
   "metadata": {},
   "outputs": [
    {
     "data": {
      "image/png": "[encoded data removed]",
      "text/plain": [
       "<Figure size 720x864 with 1 Axes>"
      ]
     },
     "metadata": {
      "needs_background": "light"
     },
     "output_type": "display_data"
    }
   ],
   "source": [
    "# Feature Importance\n",
    "imp = pd.Series(data= model.feature_importances_, index= X_train.columns).sort_values(ascending=False)\n",
    "plt.figure(figsize=(10,12))\n",
    "plt.title(\"Feature importance\")\n",
    "ax = sns.barplot(y=imp.index, x=imp.values, palette=\"Blues_d\", orient='h')"
   ]
  }
 ],
 "metadata": {
  "kernelspec": {
   "display_name": "Python 3",
   "language": "python",
   "name": "python3"
  },
  "language_info": {
   "codemirror_mode": {
    "name": "ipython",
    "version": 3
   },
   "file_extension": ".py",
   "mimetype": "text/x-python",
   "name": "python",
   "nbconvert_exporter": "python",
   "pygments_lexer": "ipython3",
   "version": "3.7.3"
  }
 },
 "nbformat": 4,
 "nbformat_minor": 2
}
